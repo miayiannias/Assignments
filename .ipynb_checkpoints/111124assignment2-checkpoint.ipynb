{
 "cells": [
  {
   "cell_type": "code",
   "execution_count": 1,
   "id": "b3058656-6840-4c53-8472-02c36a6fb193",
   "metadata": {},
   "outputs": [],
   "source": [
    "#assignment2"
   ]
  },
  {
   "cell_type": "code",
   "execution_count": 2,
   "id": "82d9896d-6ad1-4f5b-9895-c2a5f47da5ea",
   "metadata": {},
   "outputs": [],
   "source": [
    "#Part 1: \n",
    "#1. Create a list with the names of every planet in the solar system (in order) [note: Pluto is not a planet]\n",
    "#2 Have Python tell you how many planets there are by examining your list\n",
    "#3 Use slicing to display the first four planets (the rocky planets)\n",
    "#4 Iterate through your planets and print the planet name only if it has an s at the end"
   ]
  },
  {
   "cell_type": "code",
   "execution_count": 13,
   "id": "4158e66c-f245-4899-b5cb-ddbeac062f34",
   "metadata": {},
   "outputs": [],
   "source": [
    "planet_names=[\"mercury\",\"Venus\",\"Earth\",\"Mars\",\"Jupiter\",\"Saturn\",\"Uranus\",\"Neptune\"]"
   ]
  },
  {
   "cell_type": "code",
   "execution_count": 14,
   "id": "9cc6d38e-8de5-4dd1-a10c-588e48ae835e",
   "metadata": {},
   "outputs": [
    {
     "data": {
      "text/plain": [
       "8"
      ]
     },
     "execution_count": 14,
     "metadata": {},
     "output_type": "execute_result"
    }
   ],
   "source": [
    "len(planet_names)"
   ]
  },
  {
   "cell_type": "code",
   "execution_count": 6,
   "id": "7f5318c6-95ab-4afa-baa4-a6bd95474e8e",
   "metadata": {},
   "outputs": [
    {
     "data": {
      "text/plain": [
       "['mercury', 'Venus', 'Earth', 'Mars']"
      ]
     },
     "execution_count": 6,
     "metadata": {},
     "output_type": "execute_result"
    }
   ],
   "source": [
    "planet_names[0:4]"
   ]
  },
  {
   "cell_type": "code",
   "execution_count": 10,
   "id": "591610b4-bf72-4c63-8edd-9679b306382f",
   "metadata": {},
   "outputs": [
    {
     "name": "stdout",
     "output_type": "stream",
     "text": [
      "Venus\n",
      "Mars\n",
      "Uranus\n"
     ]
    }
   ],
   "source": [
    "for planet in planet_names:\n",
    "    if planet.endswith('s'):\n",
    "        print(planet)"
   ]
  },
  {
   "cell_type": "code",
   "execution_count": 11,
   "id": "5289d97d-a352-4a7e-833b-4c1952d04063",
   "metadata": {},
   "outputs": [],
   "source": [
    "#part 2:\n",
    "\n",
    "#4)Now write a function that converts from farenheit and uses a keyword argument to specify whether \n",
    "    #you want the output in celcius or kelvin\n",
    " "
   ]
  },
  {
   "cell_type": "code",
   "execution_count": 13,
   "id": "6cd2c2b7-dd2d-4551-9d91-449ee2a3b7e5",
   "metadata": {},
   "outputs": [],
   "source": [
    "def K_to_C(tempK):\n",
    "    return (tempK - 273.15)"
   ]
  },
  {
   "cell_type": "code",
   "execution_count": 14,
   "id": "7cd28c3b-1bea-4d06-b69a-511ec575d9b8",
   "metadata": {},
   "outputs": [],
   "source": [
    "def C_to_K(tempC):\n",
    "    return (tempC + 273.15)"
   ]
  },
  {
   "cell_type": "code",
   "execution_count": 20,
   "id": "b526b448-5e60-4772-8ac4-f1a3eee2ece9",
   "metadata": {},
   "outputs": [
    {
     "data": {
      "text/plain": [
       "288.15"
      ]
     },
     "execution_count": 20,
     "metadata": {},
     "output_type": "execute_result"
    }
   ],
   "source": [
    "C_to_K(15)"
   ]
  },
  {
   "cell_type": "code",
   "execution_count": 27,
   "id": "9dfb7145-cd33-4ddc-8ba2-886e5201dc06",
   "metadata": {},
   "outputs": [
    {
     "data": {
      "text/plain": [
       "0.0"
      ]
     },
     "execution_count": 27,
     "metadata": {},
     "output_type": "execute_result"
    }
   ],
   "source": [
    "K_to_C(273.15) "
   ]
  },
  {
   "cell_type": "code",
   "execution_count": 20,
   "id": "32950593-a6c6-452f-b315-c9bc8353229b",
   "metadata": {},
   "outputs": [],
   "source": [
    "def CorK_to_F(beginningtemp, beginningtempK=False):\n",
    "    if beginningtempK:\n",
    "        tempF = ((beginningtemp - 273.15) *9/5 + 32)\n",
    "    else:\n",
    "        tempF = ((beginningtemp * 9/5)+32)\n",
    "    return tempF"
   ]
  },
  {
   "cell_type": "code",
   "execution_count": 21,
   "id": "87b73f05-9c06-460a-9894-8986c4df91d1",
   "metadata": {},
   "outputs": [
    {
     "data": {
      "text/plain": [
       "32.0"
      ]
     },
     "execution_count": 21,
     "metadata": {},
     "output_type": "execute_result"
    }
   ],
   "source": [
    "CorK_to_F(0)"
   ]
  },
  {
   "cell_type": "code",
   "execution_count": 22,
   "id": "f0d660d8-e308-48dc-aaeb-c04f81b21584",
   "metadata": {},
   "outputs": [
    {
     "data": {
      "text/plain": [
       "32.0"
      ]
     },
     "execution_count": 22,
     "metadata": {},
     "output_type": "execute_result"
    }
   ],
   "source": [
    "CorK_to_F(273.15, beginningtempK = True)"
   ]
  },
  {
   "cell_type": "code",
   "execution_count": 23,
   "id": "f80ce4cc-f4c7-4df2-b92b-5e7c433b54a3",
   "metadata": {},
   "outputs": [],
   "source": [
    "def F_to_CorK(temperatureF, desiredtempK=False):\n",
    "    if desiredtempK:\n",
    "        temperaturec_or_k = (((temperatureF -32)*5/9)+ 273.15)\n",
    "    else:\n",
    "        temperaturec_or_k = ((temperatureF - 32) * 5/9)\n",
    "    return temperaturec_or_k"
   ]
  },
  {
   "cell_type": "code",
   "execution_count": 117,
   "id": "bbb8490f-5653-4692-960c-5babe5ce6aac",
   "metadata": {},
   "outputs": [
    {
     "data": {
      "text/plain": [
       "273.15"
      ]
     },
     "execution_count": 117,
     "metadata": {},
     "output_type": "execute_result"
    }
   ],
   "source": [
    "#trial run #NOT WORKING\n",
    "F_to_CorK(32, desiredtempK = True)"
   ]
  },
  {
   "cell_type": "code",
   "execution_count": 118,
   "id": "aa49b9ae-030b-4d08-b7e3-b942826f1d6a",
   "metadata": {},
   "outputs": [
    {
     "data": {
      "text/plain": [
       "0.0"
      ]
     },
     "execution_count": 118,
     "metadata": {},
     "output_type": "execute_result"
    }
   ],
   "source": [
    "#trial run\n",
    "F_to_CorK(32)"
   ]
  },
  {
   "cell_type": "code",
   "execution_count": 101,
   "id": "42f8a6ef-db6f-4959-851d-ecd3412f2cb2",
   "metadata": {},
   "outputs": [],
   "source": [
    "def height_to_m(feet, inches):\n",
    "    return (feet * 0.3048) + (inches * 0.0254)"
   ]
  },
  {
   "cell_type": "code",
   "execution_count": 102,
   "id": "274e6e77-925a-4094-a59c-877f137acbeb",
   "metadata": {},
   "outputs": [
    {
     "data": {
      "text/plain": [
       "0.635"
      ]
     },
     "execution_count": 102,
     "metadata": {},
     "output_type": "execute_result"
    }
   ],
   "source": [
    "height_to_m(2,1)"
   ]
  },
  {
   "cell_type": "code",
   "execution_count": 15,
   "id": "af5edb78-1bdb-4a0f-8882-70afa3679388",
   "metadata": {},
   "outputs": [],
   "source": [
    "def m_to_height(m):\n",
    "    # Convert height in meters to feet and inches\n",
    "    #I had online help with the math component of this step\n",
    "    inch = m / 0.0254\n",
    "    ft = int(inch / 12)\n",
    "    inches = inch % 12\n",
    "    return f\"{ft} ft {inches:.2f} in\""
   ]
  },
  {
   "cell_type": "code",
   "execution_count": 104,
   "id": "682d1d28-b7f1-458d-b941-f18d7492dd1c",
   "metadata": {},
   "outputs": [
    {
     "data": {
      "text/plain": [
       "'13 ft 1.48 in'"
      ]
     },
     "execution_count": 104,
     "metadata": {},
     "output_type": "execute_result"
    }
   ],
   "source": [
    "m_to_height(4)"
   ]
  },
  {
   "cell_type": "code",
   "execution_count": 107,
   "id": "a3e0964d-6b66-4452-bda1-252820fd1073",
   "metadata": {},
   "outputs": [
    {
     "data": {
      "text/plain": [
       "3.999992"
      ]
     },
     "execution_count": 107,
     "metadata": {},
     "output_type": "execute_result"
    }
   ],
   "source": [
    "height_to_m(13,1.48)"
   ]
  },
  {
   "cell_type": "code",
   "execution_count": 111,
   "id": "a8f79712-7957-400f-ba7f-d044a93a2a3f",
   "metadata": {},
   "outputs": [
    {
     "data": {
      "text/plain": [
       "'13 ft 1.48 in'"
      ]
     },
     "execution_count": 111,
     "metadata": {},
     "output_type": "execute_result"
    }
   ],
   "source": [
    "m_to_height(3.999992)"
   ]
  }
 ],
 "metadata": {
  "kernelspec": {
   "display_name": "pangeoai23",
   "language": "python",
   "name": "pangeoai23"
  },
  "language_info": {
   "codemirror_mode": {
    "name": "ipython",
    "version": 3
   },
   "file_extension": ".py",
   "mimetype": "text/x-python",
   "name": "python",
   "nbconvert_exporter": "python",
   "pygments_lexer": "ipython3",
   "version": "3.10.13"
  }
 },
 "nbformat": 4,
 "nbformat_minor": 5
}
